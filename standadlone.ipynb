{
 "cells": [
  {
   "cell_type": "code",
   "execution_count": 1,
   "metadata": {},
   "outputs": [
    {
     "name": "stderr",
     "output_type": "stream",
     "text": [
      "/usr/local/lib/python3.6/dist-packages/tensorflow/python/framework/dtypes.py:516: FutureWarning: Passing (type, 1) or '1type' as a synonym of type is deprecated; in a future version of numpy, it will be understood as (type, (1,)) / '(1,)type'.\n",
      "  _np_qint8 = np.dtype([(\"qint8\", np.int8, 1)])\n",
      "/usr/local/lib/python3.6/dist-packages/tensorflow/python/framework/dtypes.py:517: FutureWarning: Passing (type, 1) or '1type' as a synonym of type is deprecated; in a future version of numpy, it will be understood as (type, (1,)) / '(1,)type'.\n",
      "  _np_quint8 = np.dtype([(\"quint8\", np.uint8, 1)])\n",
      "/usr/local/lib/python3.6/dist-packages/tensorflow/python/framework/dtypes.py:518: FutureWarning: Passing (type, 1) or '1type' as a synonym of type is deprecated; in a future version of numpy, it will be understood as (type, (1,)) / '(1,)type'.\n",
      "  _np_qint16 = np.dtype([(\"qint16\", np.int16, 1)])\n",
      "/usr/local/lib/python3.6/dist-packages/tensorflow/python/framework/dtypes.py:519: FutureWarning: Passing (type, 1) or '1type' as a synonym of type is deprecated; in a future version of numpy, it will be understood as (type, (1,)) / '(1,)type'.\n",
      "  _np_quint16 = np.dtype([(\"quint16\", np.uint16, 1)])\n",
      "/usr/local/lib/python3.6/dist-packages/tensorflow/python/framework/dtypes.py:520: FutureWarning: Passing (type, 1) or '1type' as a synonym of type is deprecated; in a future version of numpy, it will be understood as (type, (1,)) / '(1,)type'.\n",
      "  _np_qint32 = np.dtype([(\"qint32\", np.int32, 1)])\n",
      "/usr/local/lib/python3.6/dist-packages/tensorflow/python/framework/dtypes.py:525: FutureWarning: Passing (type, 1) or '1type' as a synonym of type is deprecated; in a future version of numpy, it will be understood as (type, (1,)) / '(1,)type'.\n",
      "  np_resource = np.dtype([(\"resource\", np.ubyte, 1)])\n",
      "/usr/local/lib/python3.6/dist-packages/tensorboard/compat/tensorflow_stub/dtypes.py:541: FutureWarning: Passing (type, 1) or '1type' as a synonym of type is deprecated; in a future version of numpy, it will be understood as (type, (1,)) / '(1,)type'.\n",
      "  _np_qint8 = np.dtype([(\"qint8\", np.int8, 1)])\n",
      "/usr/local/lib/python3.6/dist-packages/tensorboard/compat/tensorflow_stub/dtypes.py:542: FutureWarning: Passing (type, 1) or '1type' as a synonym of type is deprecated; in a future version of numpy, it will be understood as (type, (1,)) / '(1,)type'.\n",
      "  _np_quint8 = np.dtype([(\"quint8\", np.uint8, 1)])\n",
      "/usr/local/lib/python3.6/dist-packages/tensorboard/compat/tensorflow_stub/dtypes.py:543: FutureWarning: Passing (type, 1) or '1type' as a synonym of type is deprecated; in a future version of numpy, it will be understood as (type, (1,)) / '(1,)type'.\n",
      "  _np_qint16 = np.dtype([(\"qint16\", np.int16, 1)])\n",
      "/usr/local/lib/python3.6/dist-packages/tensorboard/compat/tensorflow_stub/dtypes.py:544: FutureWarning: Passing (type, 1) or '1type' as a synonym of type is deprecated; in a future version of numpy, it will be understood as (type, (1,)) / '(1,)type'.\n",
      "  _np_quint16 = np.dtype([(\"quint16\", np.uint16, 1)])\n",
      "/usr/local/lib/python3.6/dist-packages/tensorboard/compat/tensorflow_stub/dtypes.py:545: FutureWarning: Passing (type, 1) or '1type' as a synonym of type is deprecated; in a future version of numpy, it will be understood as (type, (1,)) / '(1,)type'.\n",
      "  _np_qint32 = np.dtype([(\"qint32\", np.int32, 1)])\n",
      "/usr/local/lib/python3.6/dist-packages/tensorboard/compat/tensorflow_stub/dtypes.py:550: FutureWarning: Passing (type, 1) or '1type' as a synonym of type is deprecated; in a future version of numpy, it will be understood as (type, (1,)) / '(1,)type'.\n",
      "  np_resource = np.dtype([(\"resource\", np.ubyte, 1)])\n"
     ]
    }
   ],
   "source": [
    "from tensorflow.keras.models import load_model, Sequential,Model \n",
    "from tensorflow.keras.layers import Input, Dense, Conv2D, Activation, MaxPooling2D, Dropout, Flatten\n",
    "from tensorflow.keras.optimizers import Adam, SGD\n",
    "from tensorflow.keras.losses import sparse_categorical_crossentropy\n",
    "import pandas as pd\n",
    "import tensorflow as tf\n",
    "from PIL import Image\n",
    "import numpy as np\n",
    "import pickle"
   ]
  },
  {
   "cell_type": "code",
   "execution_count": 2,
   "metadata": {},
   "outputs": [],
   "source": [
    "with open(\"xiaoming_dataset_xy_120.pickle\", 'rb') as handle:\n",
    "    (x,y) = pickle.load(handle)\n",
    "x = x.astype(np.float32)/255"
   ]
  },
  {
   "cell_type": "code",
   "execution_count": 3,
   "metadata": {
    "scrolled": true
   },
   "outputs": [
    {
     "name": "stdout",
     "output_type": "stream",
     "text": [
      "(5992, 120, 50, 3) (5992,)\n"
     ]
    }
   ],
   "source": [
    "print(x.shape,y.shape)"
   ]
  },
  {
   "cell_type": "code",
   "execution_count": 4,
   "metadata": {},
   "outputs": [
    {
     "name": "stdout",
     "output_type": "stream",
     "text": [
      "[1 0 1 ... 0 0 0]\n"
     ]
    }
   ],
   "source": [
    "print(y)"
   ]
  },
  {
   "cell_type": "code",
   "execution_count": 5,
   "metadata": {},
   "outputs": [
    {
     "name": "stdout",
     "output_type": "stream",
     "text": [
      "(5392, 120, 50, 3) (5392,) (600, 120, 50, 3) (600,)\n"
     ]
    }
   ],
   "source": [
    "from sklearn.model_selection import train_test_split\n",
    "x_train, x_test, y_train, y_test = train_test_split(x, y, test_size=0.1, random_state=42)\n",
    "print(x_train.shape, y_train.shape, x_test.shape, y_test.shape)"
   ]
  },
  {
   "cell_type": "code",
   "execution_count": 10,
   "metadata": {},
   "outputs": [],
   "source": [
    "def get_model(input_shape=(100,50,3)):\n",
    "    model2 = Sequential()\n",
    "    model2.add(Conv2D(16,(2,2),strides=(1,1),padding = 'same', input_shape=input_shape))\n",
    "    model2.add(Activation('relu'))\n",
    "    model2.add(MaxPooling2D(pool_size=(2, 2),padding = 'same'))\n",
    "    model2.add(Conv2D(32,(2,2),strides=(1,1),padding = 'same'))\n",
    "    model2.add(Activation('relu'))\n",
    "    model2.add(MaxPooling2D(pool_size=(2, 2),padding = 'same'))\n",
    "    model2.add(Conv2D(64,(2,2),strides=(1,1),padding = 'same'))\n",
    "    model2.add(Activation('relu'))\n",
    "    model2.add(Flatten())\n",
    "    model2.add(Dense(64,activation='relu', kernel_initializer='he_normal'))\n",
    "    model2.add(Dropout(0.3))\n",
    "    model2.add(Dense(64,activation='relu', kernel_initializer='he_normal'))\n",
    "    model2.add(Dropout(0.3))\n",
    "    model2.add(Dense(2,kernel_initializer='he_normal'))\n",
    "    model2.add(Activation('softmax'))\n",
    "    return model2"
   ]
  },
  {
   "cell_type": "code",
   "execution_count": 11,
   "metadata": {},
   "outputs": [
    {
     "name": "stdout",
     "output_type": "stream",
     "text": [
      "Train on 5392 samples, validate on 600 samples\n",
      "Epoch 1/12\n",
      "5392/5392 [==============================] - 2s 356us/sample - loss: 0.7000 - acc: 0.4976 - val_loss: 0.6931 - val_acc: 0.4900\n",
      "Epoch 2/12\n",
      "5392/5392 [==============================] - 2s 290us/sample - loss: 0.6934 - acc: 0.5085 - val_loss: 0.6932 - val_acc: 0.4983\n",
      "Epoch 3/12\n",
      "5392/5392 [==============================] - 2s 289us/sample - loss: 0.6932 - acc: 0.5007 - val_loss: 0.6932 - val_acc: 0.4967\n",
      "Epoch 4/12\n",
      "5392/5392 [==============================] - 2s 291us/sample - loss: 0.6932 - acc: 0.4996 - val_loss: 0.6931 - val_acc: 0.4983\n",
      "Epoch 5/12\n",
      "5392/5392 [==============================] - 2s 293us/sample - loss: 0.6932 - acc: 0.5000 - val_loss: 0.6932 - val_acc: 0.4983\n",
      "Epoch 6/12\n",
      "5392/5392 [==============================] - 2s 292us/sample - loss: 0.6934 - acc: 0.4991 - val_loss: 0.6932 - val_acc: 0.4983\n",
      "Epoch 7/12\n",
      "5392/5392 [==============================] - 2s 290us/sample - loss: 0.6932 - acc: 0.4993 - val_loss: 0.6932 - val_acc: 0.4983\n",
      "Epoch 8/12\n",
      "5392/5392 [==============================] - 2s 286us/sample - loss: 0.6932 - acc: 0.5000 - val_loss: 0.6932 - val_acc: 0.4983\n",
      "Epoch 9/12\n",
      "5392/5392 [==============================] - 2s 281us/sample - loss: 0.6932 - acc: 0.5000 - val_loss: 0.6932 - val_acc: 0.4983\n",
      "Epoch 10/12\n",
      "5392/5392 [==============================] - 2s 288us/sample - loss: 0.6932 - acc: 0.4983 - val_loss: 0.6931 - val_acc: 0.4983\n",
      "Epoch 11/12\n",
      "5392/5392 [==============================] - 2s 290us/sample - loss: 0.6932 - acc: 0.4933 - val_loss: 0.6931 - val_acc: 0.4983\n",
      "Epoch 12/12\n",
      "5392/5392 [==============================] - 2s 286us/sample - loss: 0.6931 - acc: 0.4989 - val_loss: 0.6931 - val_acc: 0.4983\n",
      "600/600 [==============================] - 0s 144us/sample - loss: 0.6931 - acc: 0.4983\n",
      "eval res [0.6931489181518554, 0.49833333]\n"
     ]
    }
   ],
   "source": [
    "\n",
    "model1 = get_model(input_shape=x_train[0].shape)\n",
    "sgd = SGD(lr=0.01,momentum=0.0)\n",
    "adam=Adam(lr=0.0001, beta_1=0.9, beta_2=0.999, epsilon=None, decay=0.0, amsgrad=False)\n",
    "model1.compile(optimizer=adam,\n",
    "              loss=sparse_categorical_crossentropy,\n",
    "              metrics=['accuracy'])\n",
    "model1.fit(x_train,y_train, epochs=12,validation_data=(x_test, y_test))\n",
    "res=model1.evaluate(x_test,y_test)\n",
    "print(\"eval res\",res)"
   ]
  },
  {
   "cell_type": "code",
   "execution_count": 12,
   "metadata": {},
   "outputs": [
    {
     "name": "stdout",
     "output_type": "stream",
     "text": [
      "Model: \"sequential_2\"\n",
      "_________________________________________________________________\n",
      "Layer (type)                 Output Shape              Param #   \n",
      "=================================================================\n",
      "conv2d_6 (Conv2D)            (None, 120, 50, 16)       208       \n",
      "_________________________________________________________________\n",
      "activation_8 (Activation)    (None, 120, 50, 16)       0         \n",
      "_________________________________________________________________\n",
      "max_pooling2d_4 (MaxPooling2 (None, 60, 25, 16)        0         \n",
      "_________________________________________________________________\n",
      "conv2d_7 (Conv2D)            (None, 60, 25, 32)        2080      \n",
      "_________________________________________________________________\n",
      "activation_9 (Activation)    (None, 60, 25, 32)        0         \n",
      "_________________________________________________________________\n",
      "max_pooling2d_5 (MaxPooling2 (None, 30, 13, 32)        0         \n",
      "_________________________________________________________________\n",
      "conv2d_8 (Conv2D)            (None, 30, 13, 64)        8256      \n",
      "_________________________________________________________________\n",
      "activation_10 (Activation)   (None, 30, 13, 64)        0         \n",
      "_________________________________________________________________\n",
      "flatten_2 (Flatten)          (None, 24960)             0         \n",
      "_________________________________________________________________\n",
      "dense_6 (Dense)              (None, 64)                1597504   \n",
      "_________________________________________________________________\n",
      "dropout_4 (Dropout)          (None, 64)                0         \n",
      "_________________________________________________________________\n",
      "dense_7 (Dense)              (None, 64)                4160      \n",
      "_________________________________________________________________\n",
      "dropout_5 (Dropout)          (None, 64)                0         \n",
      "_________________________________________________________________\n",
      "dense_8 (Dense)              (None, 2)                 130       \n",
      "_________________________________________________________________\n",
      "activation_11 (Activation)   (None, 2)                 0         \n",
      "=================================================================\n",
      "Total params: 1,612,338\n",
      "Trainable params: 1,612,338\n",
      "Non-trainable params: 0\n",
      "_________________________________________________________________\n",
      "None\n"
     ]
    }
   ],
   "source": [
    "print(model1.summary())"
   ]
  },
  {
   "cell_type": "code",
   "execution_count": null,
   "metadata": {},
   "outputs": [],
   "source": []
  }
 ],
 "metadata": {
  "kernelspec": {
   "display_name": "Python 3",
   "language": "python",
   "name": "python3"
  },
  "language_info": {
   "codemirror_mode": {
    "name": "ipython",
    "version": 3
   },
   "file_extension": ".py",
   "mimetype": "text/x-python",
   "name": "python",
   "nbconvert_exporter": "python",
   "pygments_lexer": "ipython3",
   "version": "3.6.8"
  }
 },
 "nbformat": 4,
 "nbformat_minor": 4
}
